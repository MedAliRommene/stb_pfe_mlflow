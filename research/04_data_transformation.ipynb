{
 "cells": [
  {
   "cell_type": "code",
   "execution_count": 23,
   "metadata": {},
   "outputs": [],
   "source": [
    "import os"
   ]
  },
  {
   "cell_type": "code",
   "execution_count": 24,
   "metadata": {},
   "outputs": [
    {
     "data": {
      "text/plain": [
       "'c:\\\\Users\\\\Lenovo\\\\Desktop\\\\stb_pfe_mlflow'"
      ]
     },
     "execution_count": 24,
     "metadata": {},
     "output_type": "execute_result"
    }
   ],
   "source": [
    "%pwd"
   ]
  },
  {
   "cell_type": "code",
   "execution_count": 3,
   "metadata": {},
   "outputs": [
    {
     "data": {
      "text/plain": [
       "'c:\\\\Users\\\\Lenovo\\\\Desktop\\\\stb_pfe_mlflow'"
      ]
     },
     "execution_count": 3,
     "metadata": {},
     "output_type": "execute_result"
    }
   ],
   "source": [
    "os.chdir(\"../\")\n",
    "%pwd"
   ]
  },
  {
   "cell_type": "code",
   "execution_count": 25,
   "metadata": {},
   "outputs": [],
   "source": [
    "import warnings\n",
    "warnings.filterwarnings('ignore')\n",
    "import pandas as pd"
   ]
  },
  {
   "cell_type": "code",
   "execution_count": 26,
   "metadata": {},
   "outputs": [],
   "source": [
    "from dataclasses import dataclass\n",
    "from pathlib import Path\n",
    "\n",
    "\n",
    "@dataclass(frozen=True)\n",
    "class DataTransformationConfig:\n",
    "    root_dir: Path\n",
    "    data_path: Path"
   ]
  },
  {
   "cell_type": "code",
   "execution_count": 27,
   "metadata": {},
   "outputs": [],
   "source": [
    "from stb_pfe_mlflow.constants import *\n",
    "from stb_pfe_mlflow.utils.common import read_yaml, create_directories"
   ]
  },
  {
   "cell_type": "code",
   "execution_count": 28,
   "metadata": {},
   "outputs": [],
   "source": [
    "class ConfigurationManager:\n",
    "    def __init__(\n",
    "        self,\n",
    "        config_filepath = CONFIG_FILE_PATH,\n",
    "        params_filepath = PARAMS_FILE_PATH,\n",
    "        schema_filepath = SCHEMA_FILE_PATH):\n",
    "\n",
    "        self.config = read_yaml(config_filepath)\n",
    "        self.params = read_yaml(params_filepath)\n",
    "        self.schema = read_yaml(schema_filepath)\n",
    "\n",
    "        create_directories([self.config.artifacts_root])\n",
    "\n",
    "\n",
    "    \n",
    "    def get_data_transformation_config(self) -> DataTransformationConfig:\n",
    "        config = self.config.data_transformation\n",
    "\n",
    "        create_directories([config.root_dir])\n",
    "\n",
    "        data_transformation_config = DataTransformationConfig(\n",
    "            root_dir=config.root_dir,\n",
    "            data_path=config.data_path,\n",
    "        )\n",
    "\n",
    "        return data_transformation_config"
   ]
  },
  {
   "cell_type": "code",
   "execution_count": 29,
   "metadata": {},
   "outputs": [],
   "source": [
    "import os\n",
    "from stb_pfe_mlflow import logger\n",
    "from sklearn.model_selection import train_test_split\n",
    "import pandas as pd\n",
    "from sklearn.preprocessing import LabelEncoder, StandardScaler\n",
    "from sklearn.cluster import KMeans\n",
    "from sklearn.decomposition import PCA\n",
    "import matplotlib.pyplot as plt"
   ]
  },
  {
   "cell_type": "code",
   "execution_count": 30,
   "metadata": {},
   "outputs": [
    {
     "data": {
      "text/html": [
       "<div>\n",
       "<style scoped>\n",
       "    .dataframe tbody tr th:only-of-type {\n",
       "        vertical-align: middle;\n",
       "    }\n",
       "\n",
       "    .dataframe tbody tr th {\n",
       "        vertical-align: top;\n",
       "    }\n",
       "\n",
       "    .dataframe thead th {\n",
       "        text-align: right;\n",
       "    }\n",
       "</style>\n",
       "<table border=\"1\" class=\"dataframe\">\n",
       "  <thead>\n",
       "    <tr style=\"text-align: right;\">\n",
       "      <th></th>\n",
       "      <th>tiers_key</th>\n",
       "      <th>ca</th>\n",
       "      <th>TOTMVTC</th>\n",
       "      <th>TOTMVTD</th>\n",
       "      <th>TOTMVTCnet</th>\n",
       "      <th>TOTMVTDnet</th>\n",
       "      <th>ENG</th>\n",
       "      <th>MontImp</th>\n",
       "      <th>encours</th>\n",
       "      <th>Encours_Moyen_Debiteur</th>\n",
       "      <th>...</th>\n",
       "      <th>Code_Classe</th>\n",
       "      <th>Code_Profession</th>\n",
       "      <th>Profession</th>\n",
       "      <th>Code_Activite_Economique</th>\n",
       "      <th>Activite_Economique</th>\n",
       "      <th>Code_secteur_activite</th>\n",
       "      <th>Secteur_Activite</th>\n",
       "      <th>Ville</th>\n",
       "      <th>Date_Ouverture</th>\n",
       "      <th>ancienneté</th>\n",
       "    </tr>\n",
       "  </thead>\n",
       "  <tbody>\n",
       "    <tr>\n",
       "      <th>0</th>\n",
       "      <td>174</td>\n",
       "      <td>139474.073</td>\n",
       "      <td>0.00</td>\n",
       "      <td>-274.96</td>\n",
       "      <td>0.00</td>\n",
       "      <td>-261.17</td>\n",
       "      <td>0</td>\n",
       "      <td>0.0</td>\n",
       "      <td>0.0</td>\n",
       "      <td>1420.500876</td>\n",
       "      <td>...</td>\n",
       "      <td>1.0</td>\n",
       "      <td>P1099</td>\n",
       "      <td>AUTRES COMMERCANTS ET ASSIMILES</td>\n",
       "      <td>HAB99</td>\n",
       "      <td>TRANSPORTS FERROVIAIRES DE FRET</td>\n",
       "      <td>HA</td>\n",
       "      <td>TRANSPORTS ET ENTREPOSAGE</td>\n",
       "      <td>BAB BHAR</td>\n",
       "      <td>1958-04-05</td>\n",
       "      <td>66</td>\n",
       "    </tr>\n",
       "    <tr>\n",
       "      <th>1</th>\n",
       "      <td>370</td>\n",
       "      <td>139474.073</td>\n",
       "      <td>0.00</td>\n",
       "      <td>-483.78</td>\n",
       "      <td>0.00</td>\n",
       "      <td>-450.69</td>\n",
       "      <td>0</td>\n",
       "      <td>0.0</td>\n",
       "      <td>0.0</td>\n",
       "      <td>2311.483331</td>\n",
       "      <td>...</td>\n",
       "      <td>1.0</td>\n",
       "      <td>P1099</td>\n",
       "      <td>AUTRES COMMERCANTS ET ASSIMILES</td>\n",
       "      <td>GCG99</td>\n",
       "      <td>AUTRES COMMERCES DE DETAIL DE BIENS NEUFS EN M...</td>\n",
       "      <td>GB</td>\n",
       "      <td>COMMERCE; REPARATION D'AUTOMOBILES ET DE MOTOC...</td>\n",
       "      <td>TUNIS</td>\n",
       "      <td>1992-04-14</td>\n",
       "      <td>32</td>\n",
       "    </tr>\n",
       "    <tr>\n",
       "      <th>2</th>\n",
       "      <td>481</td>\n",
       "      <td>139474.073</td>\n",
       "      <td>3485166.04</td>\n",
       "      <td>-3473246.26</td>\n",
       "      <td>2971426.56</td>\n",
       "      <td>-3521324.16</td>\n",
       "      <td>0</td>\n",
       "      <td>0.0</td>\n",
       "      <td>0.0</td>\n",
       "      <td>1832.362192</td>\n",
       "      <td>...</td>\n",
       "      <td>0.0</td>\n",
       "      <td>P1099</td>\n",
       "      <td>AUTRES COMMERCANTS ET ASSIMILES</td>\n",
       "      <td>DAA04</td>\n",
       "      <td>COMMERCE D'ELECTRICITE</td>\n",
       "      <td>DA</td>\n",
       "      <td>PRODUCTION ET DISTRIBUTION D'ELECTRICITE, DE G...</td>\n",
       "      <td>TUNIS BELVEDERE</td>\n",
       "      <td>2000-01-01</td>\n",
       "      <td>24</td>\n",
       "    </tr>\n",
       "    <tr>\n",
       "      <th>3</th>\n",
       "      <td>578</td>\n",
       "      <td>139474.073</td>\n",
       "      <td>0.00</td>\n",
       "      <td>-362.46</td>\n",
       "      <td>0.00</td>\n",
       "      <td>-341.15</td>\n",
       "      <td>0</td>\n",
       "      <td>0.0</td>\n",
       "      <td>0.0</td>\n",
       "      <td>1500.732704</td>\n",
       "      <td>...</td>\n",
       "      <td>0.0</td>\n",
       "      <td>P1099</td>\n",
       "      <td>AUTRES COMMERCANTS ET ASSIMILES</td>\n",
       "      <td>CWA01</td>\n",
       "      <td>FABRICATION DE MEUBLES DE BUREAU ET DE MAGASIN</td>\n",
       "      <td>CW</td>\n",
       "      <td>INDUSTRIE MANUFACTURIERE</td>\n",
       "      <td>TUNIS BELVEDERE</td>\n",
       "      <td>1992-05-07</td>\n",
       "      <td>32</td>\n",
       "    </tr>\n",
       "    <tr>\n",
       "      <th>4</th>\n",
       "      <td>633</td>\n",
       "      <td>3171.408</td>\n",
       "      <td>3224.32</td>\n",
       "      <td>-7610.75</td>\n",
       "      <td>3224.32</td>\n",
       "      <td>-7610.75</td>\n",
       "      <td>0</td>\n",
       "      <td>0.0</td>\n",
       "      <td>0.0</td>\n",
       "      <td>1832.362192</td>\n",
       "      <td>...</td>\n",
       "      <td>0.0</td>\n",
       "      <td>P1099</td>\n",
       "      <td>AUTRES COMMERCANTS ET ASSIMILES</td>\n",
       "      <td>GBG05</td>\n",
       "      <td>COMMERCE DE GROS DE QUINCAILLERIE ET FOURNITUR...</td>\n",
       "      <td>GB</td>\n",
       "      <td>COMMERCE; REPARATION D'AUTOMOBILES ET DE MOTOC...</td>\n",
       "      <td>REPUBLIQUE</td>\n",
       "      <td>1992-02-20</td>\n",
       "      <td>32</td>\n",
       "    </tr>\n",
       "  </tbody>\n",
       "</table>\n",
       "<p>5 rows × 22 columns</p>\n",
       "</div>"
      ],
      "text/plain": [
       "   tiers_key          ca     TOTMVTC     TOTMVTD  TOTMVTCnet  TOTMVTDnet ENG  \\\n",
       "0        174  139474.073        0.00     -274.96        0.00     -261.17   0   \n",
       "1        370  139474.073        0.00     -483.78        0.00     -450.69   0   \n",
       "2        481  139474.073  3485166.04 -3473246.26  2971426.56 -3521324.16   0   \n",
       "3        578  139474.073        0.00     -362.46        0.00     -341.15   0   \n",
       "4        633    3171.408     3224.32    -7610.75     3224.32    -7610.75   0   \n",
       "\n",
       "   MontImp  encours  Encours_Moyen_Debiteur  ...  Code_Classe  \\\n",
       "0      0.0      0.0             1420.500876  ...          1.0   \n",
       "1      0.0      0.0             2311.483331  ...          1.0   \n",
       "2      0.0      0.0             1832.362192  ...          0.0   \n",
       "3      0.0      0.0             1500.732704  ...          0.0   \n",
       "4      0.0      0.0             1832.362192  ...          0.0   \n",
       "\n",
       "   Code_Profession                       Profession Code_Activite_Economique  \\\n",
       "0            P1099  AUTRES COMMERCANTS ET ASSIMILES                    HAB99   \n",
       "1            P1099  AUTRES COMMERCANTS ET ASSIMILES                    GCG99   \n",
       "2            P1099  AUTRES COMMERCANTS ET ASSIMILES                    DAA04   \n",
       "3            P1099  AUTRES COMMERCANTS ET ASSIMILES                    CWA01   \n",
       "4            P1099  AUTRES COMMERCANTS ET ASSIMILES                    GBG05   \n",
       "\n",
       "                                 Activite_Economique Code_secteur_activite  \\\n",
       "0                    TRANSPORTS FERROVIAIRES DE FRET                    HA   \n",
       "1  AUTRES COMMERCES DE DETAIL DE BIENS NEUFS EN M...                    GB   \n",
       "2                             COMMERCE D'ELECTRICITE                    DA   \n",
       "3     FABRICATION DE MEUBLES DE BUREAU ET DE MAGASIN                    CW   \n",
       "4  COMMERCE DE GROS DE QUINCAILLERIE ET FOURNITUR...                    GB   \n",
       "\n",
       "                                    Secteur_Activite            Ville  \\\n",
       "0                          TRANSPORTS ET ENTREPOSAGE         BAB BHAR   \n",
       "1  COMMERCE; REPARATION D'AUTOMOBILES ET DE MOTOC...            TUNIS   \n",
       "2  PRODUCTION ET DISTRIBUTION D'ELECTRICITE, DE G...  TUNIS BELVEDERE   \n",
       "3                           INDUSTRIE MANUFACTURIERE  TUNIS BELVEDERE   \n",
       "4  COMMERCE; REPARATION D'AUTOMOBILES ET DE MOTOC...       REPUBLIQUE   \n",
       "\n",
       "  Date_Ouverture ancienneté  \n",
       "0     1958-04-05         66  \n",
       "1     1992-04-14         32  \n",
       "2     2000-01-01         24  \n",
       "3     1992-05-07         32  \n",
       "4     1992-02-20         32  \n",
       "\n",
       "[5 rows x 22 columns]"
      ]
     },
     "execution_count": 30,
     "metadata": {},
     "output_type": "execute_result"
    }
   ],
   "source": [
    "df= pd.read_csv(\"artifacts/data_cleaning/clean_data.csv\")\n",
    "df.head()"
   ]
  },
  {
   "cell_type": "code",
   "execution_count": 31,
   "metadata": {},
   "outputs": [],
   "source": [
    "class DataTransformation:\n",
    "    def __init__(self, config: DataTransformationConfig):\n",
    "        self.config = config\n",
    "        \n",
    "        \n",
    "        \n",
    "    def transforming_data(self):\n",
    "        df.drop(columns=[\"Date_Ouverture\"], inplace=True)\n",
    "        # 2. Séparation des colonnes numériques et catégorielles\n",
    "        numeric_cols = df.select_dtypes(include=['float64', 'int64']).columns\n",
    "        categorical_cols = df.select_dtypes(include=['object']).columns\n",
    "\n",
    "        # Remplir les valeurs manquantes pour les colonnes numériques et catégorielles\n",
    "        df[numeric_cols] = df[numeric_cols].fillna(df[numeric_cols].median())  # Pour les colonnes numériques\n",
    "        df[categorical_cols] = df[categorical_cols].fillna(df[categorical_cols].mode().iloc[0])  # Pour les colonnes catégorielles\n",
    "\n",
    "        # 3. Encodage des variables catégorielles\n",
    "        categorical_cols = ['ENG', 'Code_Profession', 'Profession', 'Code_Activite_Economique',\n",
    "                            'Activite_Economique', 'Code_secteur_activite', 'Secteur_Activite', 'Ville']\n",
    "\n",
    "        # Utilisation de OneHotEncoder pour les variables non-ordinales\n",
    "        encoded_data = pd.get_dummies(df, columns=categorical_cols)\n",
    "\n",
    "        # 4. Normalisation des variables numériques\n",
    "        scaler = StandardScaler()\n",
    "        encoded_data[numeric_cols] = scaler.fit_transform(encoded_data[numeric_cols])\n",
    "\n",
    "        # 5. Détermination du nombre optimal de clusters avec la méthode Elbow\n",
    "        inertia = []\n",
    "        k_values = range(1, 10)\n",
    "\n",
    "        for k in k_values:\n",
    "            kmeans = KMeans(n_clusters=k, random_state=42)\n",
    "            kmeans.fit(encoded_data)\n",
    "            inertia.append(kmeans.inertia_)\n",
    "            \n",
    "        # 6. Clustering avec K-Means (choix de k optimal)\n",
    "        k_optimal = 3  # Ajuster selon le résultat de l'Elbow ou Silhouette Score\n",
    "        kmeans = KMeans(n_clusters=k_optimal, random_state=42)\n",
    "        clusters = kmeans.fit_predict(encoded_data)\n",
    "        df['Cluster'] = kmeans.labels_\n",
    "\n",
    "        \n",
    "\n",
    "        # Enregistrer le dataset final dans le répertoire configuré\n",
    "        df.to_csv(os.path.join(self.config.root_dir, \"transforming_data.csv\"), index=False)\n",
    "\n",
    "        # Log information\n",
    "        logger.info(\"Data transformation complete\")\n",
    "        logger.info(f\"Data shape: {df.shape}\")"
   ]
  },
  {
   "cell_type": "code",
   "execution_count": 32,
   "metadata": {},
   "outputs": [
    {
     "name": "stdout",
     "output_type": "stream",
     "text": [
      "[2024-10-01 01:15:11,935: INFO: common: yaml file: config\\config.yaml loaded successfully]\n",
      "[2024-10-01 01:15:11,937: INFO: common: yaml file: params.yaml loaded successfully]\n",
      "[2024-10-01 01:15:11,941: INFO: common: yaml file: schema.yaml loaded successfully]\n",
      "[2024-10-01 01:15:11,943: INFO: common: created directory at: artifacts]\n",
      "[2024-10-01 01:15:11,945: INFO: common: created directory at: artifacts/data_transformation]\n",
      "[2024-10-01 01:15:54,064: INFO: 3562172996: Data transformation complete]\n",
      "[2024-10-01 01:15:54,065: INFO: 3562172996: Data shape: (12946, 22)]\n"
     ]
    }
   ],
   "source": [
    "try:\n",
    "    config = ConfigurationManager()\n",
    "    data_transformation_config = config.get_data_transformation_config()\n",
    "    data_transformation = DataTransformation(config=data_transformation_config)\n",
    "    data_transformation.transforming_data()\n",
    "except Exception as e:\n",
    "    raise e"
   ]
  },
  {
   "cell_type": "code",
   "execution_count": null,
   "metadata": {},
   "outputs": [],
   "source": []
  },
  {
   "cell_type": "code",
   "execution_count": null,
   "metadata": {},
   "outputs": [],
   "source": []
  },
  {
   "cell_type": "code",
   "execution_count": null,
   "metadata": {},
   "outputs": [],
   "source": []
  },
  {
   "cell_type": "code",
   "execution_count": null,
   "metadata": {},
   "outputs": [],
   "source": []
  },
  {
   "cell_type": "code",
   "execution_count": null,
   "metadata": {},
   "outputs": [],
   "source": []
  },
  {
   "cell_type": "code",
   "execution_count": null,
   "metadata": {},
   "outputs": [],
   "source": []
  },
  {
   "cell_type": "code",
   "execution_count": null,
   "metadata": {},
   "outputs": [],
   "source": []
  },
  {
   "cell_type": "code",
   "execution_count": null,
   "metadata": {},
   "outputs": [],
   "source": []
  },
  {
   "cell_type": "code",
   "execution_count": null,
   "metadata": {},
   "outputs": [],
   "source": []
  },
  {
   "cell_type": "code",
   "execution_count": null,
   "metadata": {},
   "outputs": [],
   "source": []
  },
  {
   "cell_type": "code",
   "execution_count": null,
   "metadata": {},
   "outputs": [],
   "source": []
  }
 ],
 "metadata": {
  "kernelspec": {
   "display_name": ".venv",
   "language": "python",
   "name": "python3"
  },
  "language_info": {
   "codemirror_mode": {
    "name": "ipython",
    "version": 3
   },
   "file_extension": ".py",
   "mimetype": "text/x-python",
   "name": "python",
   "nbconvert_exporter": "python",
   "pygments_lexer": "ipython3",
   "version": "3.11.4"
  }
 },
 "nbformat": 4,
 "nbformat_minor": 2
}
