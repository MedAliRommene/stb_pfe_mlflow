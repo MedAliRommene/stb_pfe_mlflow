{
 "cells": [
  {
   "cell_type": "code",
   "execution_count": 1,
   "metadata": {},
   "outputs": [],
   "source": [
    "import os "
   ]
  },
  {
   "cell_type": "code",
   "execution_count": 2,
   "metadata": {},
   "outputs": [
    {
     "data": {
      "text/plain": [
       "'c:\\\\Users\\\\Lenovo\\\\Desktop\\\\stb_pfe_mlflow\\\\research'"
      ]
     },
     "execution_count": 2,
     "metadata": {},
     "output_type": "execute_result"
    }
   ],
   "source": [
    "%pwd"
   ]
  },
  {
   "cell_type": "code",
   "execution_count": 3,
   "metadata": {},
   "outputs": [
    {
     "data": {
      "text/plain": [
       "'c:\\\\Users\\\\Lenovo\\\\Desktop\\\\stb_pfe_mlflow'"
      ]
     },
     "execution_count": 3,
     "metadata": {},
     "output_type": "execute_result"
    }
   ],
   "source": [
    "os.chdir(\"../\")\n",
    "%pwd"
   ]
  },
  {
   "cell_type": "code",
   "execution_count": 4,
   "metadata": {},
   "outputs": [],
   "source": [
    "import warnings\n",
    "warnings.filterwarnings('ignore')\n",
    "import pandas as pd"
   ]
  },
  {
   "cell_type": "code",
   "execution_count": 5,
   "metadata": {},
   "outputs": [
    {
     "data": {
      "text/html": [
       "<div>\n",
       "<style scoped>\n",
       "    .dataframe tbody tr th:only-of-type {\n",
       "        vertical-align: middle;\n",
       "    }\n",
       "\n",
       "    .dataframe tbody tr th {\n",
       "        vertical-align: top;\n",
       "    }\n",
       "\n",
       "    .dataframe thead th {\n",
       "        text-align: right;\n",
       "    }\n",
       "</style>\n",
       "<table border=\"1\" class=\"dataframe\">\n",
       "  <thead>\n",
       "    <tr style=\"text-align: right;\">\n",
       "      <th></th>\n",
       "      <th>tiers_key</th>\n",
       "      <th>ca</th>\n",
       "      <th>TOTMVTC</th>\n",
       "      <th>TOTMVTD</th>\n",
       "      <th>TOTMVTCnet</th>\n",
       "      <th>TOTMVTDnet</th>\n",
       "      <th>ENG</th>\n",
       "      <th>MontImp</th>\n",
       "      <th>encours</th>\n",
       "      <th>Encours_Moyen_Debiteur</th>\n",
       "      <th>...</th>\n",
       "      <th>Code_Classe</th>\n",
       "      <th>Var Signalitiques.Code_Profession</th>\n",
       "      <th>Var Signalitiques.Profession</th>\n",
       "      <th>Var Signalitiques.Code_Activite_Economique</th>\n",
       "      <th>Var Signalitiques.Activite_Economique</th>\n",
       "      <th>Var Signalitiques.Code_secteur_activite</th>\n",
       "      <th>Var Signalitiques.Secteur_Activite</th>\n",
       "      <th>Var Signalitiques.Ville</th>\n",
       "      <th>Var Signalitiques.Code_Postal</th>\n",
       "      <th>Var Signalitiques.Date_Ouverture</th>\n",
       "    </tr>\n",
       "  </thead>\n",
       "  <tbody>\n",
       "    <tr>\n",
       "      <th>0</th>\n",
       "      <td>174</td>\n",
       "      <td>NaN</td>\n",
       "      <td>0.000</td>\n",
       "      <td>-274.956</td>\n",
       "      <td>0.000</td>\n",
       "      <td>-261.171</td>\n",
       "      <td>NaN</td>\n",
       "      <td>NaN</td>\n",
       "      <td>NaN</td>\n",
       "      <td>1420.500876</td>\n",
       "      <td>...</td>\n",
       "      <td>1.0</td>\n",
       "      <td>NaN</td>\n",
       "      <td>NaN</td>\n",
       "      <td>HAB99</td>\n",
       "      <td>TRANSPORTS FERROVIAIRES DE FRET</td>\n",
       "      <td>HA</td>\n",
       "      <td>TRANSPORTS ET ENTREPOSAGE</td>\n",
       "      <td>BAB BHAR</td>\n",
       "      <td>1000.0</td>\n",
       "      <td>1958-04-05</td>\n",
       "    </tr>\n",
       "    <tr>\n",
       "      <th>1</th>\n",
       "      <td>370</td>\n",
       "      <td>NaN</td>\n",
       "      <td>0.000</td>\n",
       "      <td>-483.776</td>\n",
       "      <td>0.000</td>\n",
       "      <td>-450.691</td>\n",
       "      <td>NaN</td>\n",
       "      <td>NaN</td>\n",
       "      <td>NaN</td>\n",
       "      <td>2311.483331</td>\n",
       "      <td>...</td>\n",
       "      <td>1.0</td>\n",
       "      <td>NaN</td>\n",
       "      <td>NaN</td>\n",
       "      <td>GCG99</td>\n",
       "      <td>AUTRES COMMERCES DE DETAIL DE BIENS NEUFS EN M...</td>\n",
       "      <td>NaN</td>\n",
       "      <td>NaN</td>\n",
       "      <td>TUNIS</td>\n",
       "      <td>1002.0</td>\n",
       "      <td>1992-04-14</td>\n",
       "    </tr>\n",
       "    <tr>\n",
       "      <th>2</th>\n",
       "      <td>481</td>\n",
       "      <td>NaN</td>\n",
       "      <td>NaN</td>\n",
       "      <td>NaN</td>\n",
       "      <td>NaN</td>\n",
       "      <td>NaN</td>\n",
       "      <td>NaN</td>\n",
       "      <td>NaN</td>\n",
       "      <td>NaN</td>\n",
       "      <td>NaN</td>\n",
       "      <td>...</td>\n",
       "      <td>NaN</td>\n",
       "      <td>NaN</td>\n",
       "      <td>NaN</td>\n",
       "      <td>DAA04</td>\n",
       "      <td>COMMERCE D'ELECTRICITE</td>\n",
       "      <td>DA</td>\n",
       "      <td>PRODUCTION ET DISTRIBUTION D'ELECTRICITE, DE G...</td>\n",
       "      <td>TUNIS BELVEDERE</td>\n",
       "      <td>1002.0</td>\n",
       "      <td>2000-01-01</td>\n",
       "    </tr>\n",
       "    <tr>\n",
       "      <th>3</th>\n",
       "      <td>578</td>\n",
       "      <td>NaN</td>\n",
       "      <td>0.000</td>\n",
       "      <td>-362.465</td>\n",
       "      <td>0.000</td>\n",
       "      <td>-341.152</td>\n",
       "      <td>NaN</td>\n",
       "      <td>NaN</td>\n",
       "      <td>NaN</td>\n",
       "      <td>1500.732704</td>\n",
       "      <td>...</td>\n",
       "      <td>NaN</td>\n",
       "      <td>NaN</td>\n",
       "      <td>NaN</td>\n",
       "      <td>CWA01</td>\n",
       "      <td>FABRICATION DE MEUBLES DE BUREAU ET DE MAGASIN</td>\n",
       "      <td>CW</td>\n",
       "      <td>INDUSTRIE MANUFACTURIERE</td>\n",
       "      <td>TUNIS BELVEDERE</td>\n",
       "      <td>1002.0</td>\n",
       "      <td>1992-05-07</td>\n",
       "    </tr>\n",
       "    <tr>\n",
       "      <th>4</th>\n",
       "      <td>633</td>\n",
       "      <td>3171.408</td>\n",
       "      <td>3224.323</td>\n",
       "      <td>-7610.750</td>\n",
       "      <td>3224.323</td>\n",
       "      <td>-7610.750</td>\n",
       "      <td>NaN</td>\n",
       "      <td>NaN</td>\n",
       "      <td>NaN</td>\n",
       "      <td>NaN</td>\n",
       "      <td>...</td>\n",
       "      <td>NaN</td>\n",
       "      <td>NaN</td>\n",
       "      <td>NaN</td>\n",
       "      <td>GBG05</td>\n",
       "      <td>COMMERCE DE GROS DE QUINCAILLERIE ET FOURNITUR...</td>\n",
       "      <td>GB</td>\n",
       "      <td>COMMERCE; REPARATION D'AUTOMOBILES ET DE MOTOC...</td>\n",
       "      <td>REPUBLIQUE</td>\n",
       "      <td>1001.0</td>\n",
       "      <td>1992-02-20</td>\n",
       "    </tr>\n",
       "  </tbody>\n",
       "</table>\n",
       "<p>5 rows × 30 columns</p>\n",
       "</div>"
      ],
      "text/plain": [
       "   tiers_key        ca   TOTMVTC   TOTMVTD  TOTMVTCnet  TOTMVTDnet  ENG  \\\n",
       "0        174       NaN     0.000  -274.956       0.000    -261.171  NaN   \n",
       "1        370       NaN     0.000  -483.776       0.000    -450.691  NaN   \n",
       "2        481       NaN       NaN       NaN         NaN         NaN  NaN   \n",
       "3        578       NaN     0.000  -362.465       0.000    -341.152  NaN   \n",
       "4        633  3171.408  3224.323 -7610.750    3224.323   -7610.750  NaN   \n",
       "\n",
       "   MontImp encours  Encours_Moyen_Debiteur  ...  Code_Classe  \\\n",
       "0      NaN     NaN             1420.500876  ...          1.0   \n",
       "1      NaN     NaN             2311.483331  ...          1.0   \n",
       "2      NaN     NaN                     NaN  ...          NaN   \n",
       "3      NaN     NaN             1500.732704  ...          NaN   \n",
       "4      NaN     NaN                     NaN  ...          NaN   \n",
       "\n",
       "   Var Signalitiques.Code_Profession  Var Signalitiques.Profession  \\\n",
       "0                                NaN                           NaN   \n",
       "1                                NaN                           NaN   \n",
       "2                                NaN                           NaN   \n",
       "3                                NaN                           NaN   \n",
       "4                                NaN                           NaN   \n",
       "\n",
       "   Var Signalitiques.Code_Activite_Economique  \\\n",
       "0                                       HAB99   \n",
       "1                                       GCG99   \n",
       "2                                       DAA04   \n",
       "3                                       CWA01   \n",
       "4                                       GBG05   \n",
       "\n",
       "               Var Signalitiques.Activite_Economique  \\\n",
       "0                    TRANSPORTS FERROVIAIRES DE FRET   \n",
       "1  AUTRES COMMERCES DE DETAIL DE BIENS NEUFS EN M...   \n",
       "2                             COMMERCE D'ELECTRICITE   \n",
       "3     FABRICATION DE MEUBLES DE BUREAU ET DE MAGASIN   \n",
       "4  COMMERCE DE GROS DE QUINCAILLERIE ET FOURNITUR...   \n",
       "\n",
       "  Var Signalitiques.Code_secteur_activite  \\\n",
       "0                                      HA   \n",
       "1                                     NaN   \n",
       "2                                      DA   \n",
       "3                                      CW   \n",
       "4                                      GB   \n",
       "\n",
       "                  Var Signalitiques.Secteur_Activite  Var Signalitiques.Ville  \\\n",
       "0                          TRANSPORTS ET ENTREPOSAGE                 BAB BHAR   \n",
       "1                                                NaN                    TUNIS   \n",
       "2  PRODUCTION ET DISTRIBUTION D'ELECTRICITE, DE G...          TUNIS BELVEDERE   \n",
       "3                           INDUSTRIE MANUFACTURIERE          TUNIS BELVEDERE   \n",
       "4  COMMERCE; REPARATION D'AUTOMOBILES ET DE MOTOC...               REPUBLIQUE   \n",
       "\n",
       "   Var Signalitiques.Code_Postal  Var Signalitiques.Date_Ouverture  \n",
       "0                         1000.0                        1958-04-05  \n",
       "1                         1002.0                        1992-04-14  \n",
       "2                         1002.0                        2000-01-01  \n",
       "3                         1002.0                        1992-05-07  \n",
       "4                         1001.0                        1992-02-20  \n",
       "\n",
       "[5 rows x 30 columns]"
      ]
     },
     "execution_count": 5,
     "metadata": {},
     "output_type": "execute_result"
    }
   ],
   "source": [
    "df= pd.read_csv(\"artifacts/data_ingestion/data.csv\")\n",
    "df.head()"
   ]
  },
  {
   "cell_type": "code",
   "execution_count": 7,
   "metadata": {},
   "outputs": [
    {
     "name": "stdout",
     "output_type": "stream",
     "text": [
      "<class 'pandas.core.frame.DataFrame'>\n",
      "RangeIndex: 12946 entries, 0 to 12945\n",
      "Data columns (total 30 columns):\n",
      " #   Column                                      Non-Null Count  Dtype  \n",
      "---  ------                                      --------------  -----  \n",
      " 0   tiers_key                                   12946 non-null  int64  \n",
      " 1   ca                                          6396 non-null   float64\n",
      " 2   TOTMVTC                                     10205 non-null  float64\n",
      " 3   TOTMVTD                                     10205 non-null  float64\n",
      " 4   TOTMVTCnet                                  10045 non-null  float64\n",
      " 5   TOTMVTDnet                                  10045 non-null  float64\n",
      " 6   ENG                                         4146 non-null   object \n",
      " 7   MontImp                                     4146 non-null   float64\n",
      " 8   encours                                     4146 non-null   object \n",
      " 9   Encours_Moyen_Debiteur                      10076 non-null  float64\n",
      " 10  Encours_Moyen_crediteur                     10595 non-null  float64\n",
      " 11  INCIDENTCHQ                                 863 non-null    float64\n",
      " 12  INCIDENTCHQ_R                               581 non-null    float64\n",
      " 13  INCIDENTCHQ_N_R                             577 non-null    float64\n",
      " 14  Interdit                                    2020 non-null   object \n",
      " 15  InterditAct                                 2059 non-null   object \n",
      " 16  NBIMP                                       1290 non-null   float64\n",
      " 17  Interet_Non_ECHU                            2413 non-null   float64\n",
      " 18  Encaiss_Recu                                2535 non-null   float64\n",
      " 19  NBECHEANCE                                  4276 non-null   float64\n",
      " 20  Code_Classe                                 3671 non-null   float64\n",
      " 21  Var Signalitiques.Code_Profession           5362 non-null   object \n",
      " 22  Var Signalitiques.Profession                5362 non-null   object \n",
      " 23  Var Signalitiques.Code_Activite_Economique  8849 non-null   object \n",
      " 24  Var Signalitiques.Activite_Economique       8849 non-null   object \n",
      " 25  Var Signalitiques.Code_secteur_activite     6554 non-null   object \n",
      " 26  Var Signalitiques.Secteur_Activite          6521 non-null   object \n",
      " 27  Var Signalitiques.Ville                     10900 non-null  object \n",
      " 28  Var Signalitiques.Code_Postal               11083 non-null  float64\n",
      " 29  Var Signalitiques.Date_Ouverture            12864 non-null  object \n",
      "dtypes: float64(17), int64(1), object(12)\n",
      "memory usage: 3.0+ MB\n",
      "None\n"
     ]
    }
   ],
   "source": [
    "print(df.info())"
   ]
  },
  {
   "cell_type": "code",
   "execution_count": 8,
   "metadata": {},
   "outputs": [
    {
     "data": {
      "text/plain": [
       "Index(['tiers_key', 'ca', 'TOTMVTC', 'TOTMVTD', 'TOTMVTCnet', 'TOTMVTDnet',\n",
       "       'ENG', 'MontImp', 'encours', 'Encours_Moyen_Debiteur',\n",
       "       'Encours_Moyen_crediteur', 'INCIDENTCHQ', 'INCIDENTCHQ_R',\n",
       "       'INCIDENTCHQ_N_R', 'Interdit', 'InterditAct', 'NBIMP',\n",
       "       'Interet_Non_ECHU', 'Encaiss_Recu', 'NBECHEANCE', 'Code_Classe',\n",
       "       'Var Signalitiques.Code_Profession', 'Var Signalitiques.Profession',\n",
       "       'Var Signalitiques.Code_Activite_Economique',\n",
       "       'Var Signalitiques.Activite_Economique',\n",
       "       'Var Signalitiques.Code_secteur_activite',\n",
       "       'Var Signalitiques.Secteur_Activite', 'Var Signalitiques.Ville',\n",
       "       'Var Signalitiques.Code_Postal', 'Var Signalitiques.Date_Ouverture'],\n",
       "      dtype='object')"
      ]
     },
     "execution_count": 8,
     "metadata": {},
     "output_type": "execute_result"
    }
   ],
   "source": [
    "\n",
    "df.columns\n"
   ]
  },
  {
   "cell_type": "code",
   "execution_count": null,
   "metadata": {},
   "outputs": [],
   "source": []
  },
  {
   "cell_type": "code",
   "execution_count": null,
   "metadata": {},
   "outputs": [],
   "source": []
  },
  {
   "cell_type": "code",
   "execution_count": null,
   "metadata": {},
   "outputs": [],
   "source": []
  },
  {
   "cell_type": "code",
   "execution_count": null,
   "metadata": {},
   "outputs": [],
   "source": []
  },
  {
   "cell_type": "code",
   "execution_count": null,
   "metadata": {},
   "outputs": [],
   "source": []
  },
  {
   "cell_type": "code",
   "execution_count": null,
   "metadata": {},
   "outputs": [],
   "source": []
  }
 ],
 "metadata": {
  "kernelspec": {
   "display_name": ".venv",
   "language": "python",
   "name": "python3"
  },
  "language_info": {
   "codemirror_mode": {
    "name": "ipython",
    "version": 3
   },
   "file_extension": ".py",
   "mimetype": "text/x-python",
   "name": "python",
   "nbconvert_exporter": "python",
   "pygments_lexer": "ipython3",
   "version": "3.11.4"
  }
 },
 "nbformat": 4,
 "nbformat_minor": 2
}
