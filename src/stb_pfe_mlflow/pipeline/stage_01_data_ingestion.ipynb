{
 "cells": [
  {
   "cell_type": "code",
   "execution_count": null,
   "metadata": {},
   "outputs": [],
   "source": [
    "from stb_pfe_mlflow.config.configuration import ConfigurationManager\n",
    "from stb_pfe_mlflow import logger\n",
    "from stb_pfe_mlflow.components.data_ingestion import DataIngestion\n"
   ]
  }
 ],
 "metadata": {
  "kernelspec": {
   "display_name": ".venv",
   "language": "python",
   "name": "python3"
  },
  "language_info": {
   "name": "python",
   "version": "3.11.4"
  }
 },
 "nbformat": 4,
 "nbformat_minor": 2
}
